{
  {
   "cell_type": "markdown",
   "metadata": {},
   "source": [
    "    "
   ]
  },
  {
   "cell_type": "code",
   "execution_count": 19,
   "metadata": {},
   "outputs": [],
   "source": [
    "import numpy as np\n",
    "import pandas as pd\n",
    "import scipy\n",
    "import pickle\n",
    "from sklearn.feature_extraction.text import CountVectorizer\n",
    "from sklearn.feature_selection import SelectKBest, chi2, mutual_info_classif\n",
    "\n",
    "from sklearn.naive_bayes import GaussianNB\n",
    "from sklearn.model_selection import train_test_split\n",
    "from sklearn.model_selection import cross_val_score\n",
    "from sklearn.metrics import classification_report, accuracy_score\n",
    "\n",
    "from sklearn.multiclass import OneVsRestClassifier\n",
    "from sklearn.svm import SVC\n",
    "\n",
    "from sklearn.metrics import multilabel_confusion_matrix\n",
    "from sklearn.metrics import plot_confusion_matrix\n",
    "\n",
    "import matplotlib.pyplot as plt\n",
    "from sklearn.datasets import load_digits\n",
    "from sklearn.model_selection import learning_curve\n",
    "from sklearn.model_selection import ShuffleSplit"
   ]
  },
  {
   "cell_type": "markdown",
   "metadata": {},
   "source": [
    "# Dataset"
   ]
  },
  {
   "cell_type": "code",
   "execution_count": 2,
   "metadata": {},
   "outputs": [
    {
     "data": {
      "text/plain": [
       "<7018x41648 sparse matrix of type '<class 'numpy.int64'>'\n",
       "\twith 362189 stored elements in Compressed Sparse Row format>"
      ]
     },
     "execution_count": 2,
     "metadata": {},
     "output_type": "execute_result"
    }
   ],
   "source": [
    "#################### Read in revew text & meta data\n",
    "\n",
    "# review text\n",
    "res_train_review_table = pd.read_csv(r\"Dataset/review_text_train.csv\", index_col = False, delimiter = ',', header=0)\n",
    "res_test_review_table = pd.read_csv(r\"Dataset/review_text_test.csv\", index_col = False, delimiter = ',', header=0)\n",
    "\n",
    "# meta data\n",
    "rating_train = pd.read_csv('Dataset/review_meta_train.csv')\n",
    "rating_test = pd.read_csv('Dataset/review_meta_test.csv')\n",
    "\n",
    "train_corpus = res_train_review_table['review']\n",
    "test = res_test_review_table['review']\n",
    "\n",
    "# Vector matrix of review text\n",
    "review_train = scipy.sparse.load_npz('Dataset/review_text_features_countvec/review_text_train_vec.npz')\n",
    "scipy.sparse.load_npz('Dataset/review_text_features_countvec/review_text_test_vec.npz')"
   ]
  },
  {
   "cell_type": "code",
   "execution_count": 3,
   "metadata": {},
   "outputs": [],
   "source": [
    "######### Clean review text by removing certain symbols\n",
    "SYMBOLS = '#+_-=/\\{}[]|@,;`*'\n",
    "\n",
    "def clean_text(text):   \n",
    "    if SYMBOLS in text:\n",
    "        SYMBOLS.sub(SYMBOLS, ' ')\n",
    "            \n",
    "    return text\n",
    "    \n",
    "res_train_review_table['review'] = res_train_review_table['review'].apply(clean_text)"
   ]
  },
  {
   "cell_type": "markdown",
   "metadata": {},
   "source": [
    "# Text feature"
   ]
  },
  {
   "cell_type": "markdown",
   "metadata": {},
   "source": [
    "## doc2vec"
   ]
  },
  {
   "cell_type": "code",
   "execution_count": 4,
   "metadata": {},
   "outputs": [],
   "source": [
    "#################### Create CountVectorizer\n",
    "\n",
    "# preprocess text and compute counts\n",
    "vocab = CountVectorizer(stop_words='english').fit(train_corpus)\n",
    "# print(vocab.vocabulary_)\n",
    "\n",
    "# Encode the document, generate counts for a new set of documents\n",
    "doc_emb = vocab.transform(test)\n",
    "\n",
    "X_train = vocab.fit_transform(train_corpus)\n",
    "X_test = vocab.transform(test)\n",
    "\n",
    "\n",
    "# add rating column next to review text\n",
    "res_train_review_table['rating'] = rating_train['rating'].values\n",
    "\n",
    "\n",
    "# doc2vec text features\n",
    "# d2v200\n",
    "d2v_200 = pd.read_csv(r\"Dataset/review_text_features_doc2vec200/review_text_train_doc2vec200.csv\", index_col = False, delimiter = ',', header=None)\n",
    "d2v_200 = pd.DataFrame(d2v_200)\n",
    "\n",
    "d2v_200_test = pd.read_csv(r\"Dataset/review_text_features_doc2vec200/review_text_test_doc2vec200.csv\", index_col = False, delimiter = ',', header=None)\n",
    "test_review_d2v200 = pd.DataFrame(d2v_200_test)\n",
    "\n",
    "train_review_d2v200 = pd.concat([res_train_review_table,d2v_200], axis=1)\n",
    "\n",
    "\n",
    "# d2v100\n",
    "d2v_100 = pd.read_csv(r\"Dataset/review_text_features_doc2vec100/review_text_train_doc2vec100.csv\", index_col = False, delimiter = ',', header=None)\n",
    "d2v_100 = pd.DataFrame(d2v_100)\n",
    "\n",
    "d2v_100_test = pd.read_csv(r\"Dataset/review_text_features_doc2vec100/review_text_test_doc2vec100.csv\", index_col = False, delimiter = ',', header=None)\n",
    "test_review_d2v100 = pd.DataFrame(d2v_100_test)\n",
    "\n",
    "train_review_d2v100 = pd.concat([res_train_review_table,d2v_100], axis=1)\n",
    "\n",
    "\n",
    "# d2v50\n",
    "d2v_50 = pd.read_csv(r\"Dataset/review_text_features_doc2vec50/review_text_train_doc2vec50.csv\", index_col = False, delimiter = ',', header=None)\n",
    "d2v_50 = pd.DataFrame(d2v_50)\n",
    "\n",
    "d2v_50_test = pd.read_csv(r\"Dataset/review_text_features_doc2vec50/review_text_test_doc2vec50.csv\", index_col = False, delimiter = ',', header=None)\n",
    "test_review_d2v50 = pd.DataFrame(d2v_50_test)\n",
    "\n",
    "train_review_d2v50 = pd.concat([res_train_review_table,d2v_50], axis=1)\n"
   ]
  },
  {
   "cell_type": "markdown",
   "metadata": {},
   "source": [
    "## Vader Lexicon - sentiment"
   ]
  },
  {
   "cell_type": "code",
   "execution_count": null,
   "metadata": {},
   "outputs": [],
   "source": [
    "# Vader Lexicon \n",
    "import nltk\n",
    "nltk.download('vader_lexicon')\n",
    "\n",
    "from nltk.sentiment.vader import SentimentIntensityAnalyzer\n",
    "\n",
    "sid = SentimentIntensityAnalyzer()\n",
    "\n",
    "# add sentiment anaylsis columns to training and testing dataset\n",
    "train_review_sen = res_train_review_table.copy()\n",
    "train_review_sen[\"sentiments\"] = train_review_sen[\"review\"].apply(lambda x: sid.polarity_scores(x))\n",
    "train_review_sen = pd.concat([train_review_sen.drop(['sentiments'], axis=1), train_review_sen['sentiments'].apply(pd.Series)], axis=1)\n",
    "train_review_sen = pd.concat([train_review_sen, train_review_d2v200], axis=1 )\n",
    "\n",
    "\n",
    "test_review_sen = res_test_review_table.copy()\n",
    "test_review_sen[\"sentiments\"] = test_review_sen[\"review\"].apply(lambda x: sid.polarity_scores(x))\n",
    "test_review_sen = pd.concat([test_review_sen.drop(['sentiments'], axis=1), test_review_sen['sentiments'].apply(pd.Series)], axis=1)"
   ]
  },
  {
   "cell_type": "markdown",
   "metadata": {},
   "source": [
    "# Learning curve plot"
   ]
  },
  {
   "cell_type": "code",
   "execution_count": 22,
   "metadata": {},
   "outputs": [],
   "source": [
    "# Referenced from: https://scikit-learn.org/stable/auto_examples/model_selection/plot_learning_curve.html\n",
    "def plot_learning_curve(estimator, title, X, y, axes=None, ylim=None, cv=None,\n",
    "                        n_jobs=None, train_sizes=np.linspace(.1, 1.0, 5)):\n",
    "    \"\"\"\n",
    "    Generate 3 plots: the test and training learning curve, the training\n",
    "    samples vs fit times curve, the fit times vs score curve.\n",
    "\n",
    "    Parameters\n",
    "    ----------\n",
    "    estimator : object type that implements the \"fit\" and \"predict\" methods\n",
    "        An object of that type which is cloned for each validation.\n",
    "\n",
    "    title : string\n",
    "        Title for the chart.\n",
    "\n",
    "    X : array-like, shape (n_samples, n_features)\n",
    "        Training vector, where n_samples is the number of samples and\n",
    "        n_features is the number of features.\n",
    "\n",
    "    y : array-like, shape (n_samples) or (n_samples, n_features), optional\n",
    "        Target relative to X for classification or regression;\n",
    "        None for unsupervised learning.\n",
    "\n",
    "    axes : array of 3 axes, optional (default=None)\n",
    "        Axes to use for plotting the curves.\n",
    "\n",
    "    ylim : tuple, shape (ymin, ymax), optional\n",
    "        Defines minimum and maximum yvalues plotted.\n",
    "\n",
    "    cv : int, cross-validation generator or an iterable, optional\n",
    "        Determines the cross-validation splitting strategy.\n",
    "        Possible inputs for cv are:\n",
    "\n",
    "          - None, to use the default 5-fold cross-validation,\n",
    "          - integer, to specify the number of folds.\n",
    "          - :term:`CV splitter`,\n",
    "          - An iterable yielding (train, test) splits as arrays of indices.\n",
    "\n",
    "        For integer/None inputs, if ``y`` is binary or multiclass,\n",
    "        :class:`StratifiedKFold` used. If the estimator is not a classifier\n",
    "        or if ``y`` is neither binary nor multiclass, :class:`KFold` is used.\n",
    "\n",
    "        Refer :ref:`User Guide <cross_validation>` for the various\n",
    "        cross-validators that can be used here.\n",
    "\n",
    "    n_jobs : int or None, optional (default=None)\n",
    "        Number of jobs to run in parallel.\n",
    "        ``None`` means 1 unless in a :obj:`joblib.parallel_backend` context.\n",
    "        ``-1`` means using all processors. See :term:`Glossary <n_jobs>`\n",
    "        for more details.\n",
    "\n",
    "    train_sizes : array-like, shape (n_ticks,), dtype float or int\n",
    "        Relative or absolute numbers of training examples that will be used to\n",
    "        generate the learning curve. If the dtype is float, it is regarded as a\n",
    "        fraction of the maximum size of the training set (that is determined\n",
    "        by the selected validation method), i.e. it has to be within (0, 1].\n",
    "        Otherwise it is interpreted as absolute sizes of the training sets.\n",
    "        Note that for classification the number of samples usually have to\n",
    "        be big enough to contain at least one sample from each class.\n",
    "        (default: np.linspace(0.1, 1.0, 5))\n",
    "    \"\"\"\n",
    "    if axes is None:\n",
    "        _, axes = plt.subplots(1, 3, figsize=(20, 5))\n",
    "\n",
    "    axes[0].set_title(title)\n",
    "    if ylim is not None:\n",
    "        axes[0].set_ylim(*ylim)\n",
    "    axes[0].set_xlabel(\"Training examples\")\n",
    "    axes[0].set_ylabel(\"Score\")\n",
    "\n",
    "    train_sizes, train_scores, test_scores, fit_times, _ = \\\n",
    "        learning_curve(estimator, X, y, cv=cv, n_jobs=n_jobs,\n",
    "                       train_sizes=train_sizes,\n",
    "                       return_times=True)\n",
    "    train_scores_mean = np.mean(train_scores, axis=1)\n",
    "    train_scores_std = np.std(train_scores, axis=1)\n",
    "    test_scores_mean = np.mean(test_scores, axis=1)\n",
    "    test_scores_std = np.std(test_scores, axis=1)\n",
    "    fit_times_mean = np.mean(fit_times, axis=1)\n",
    "    fit_times_std = np.std(fit_times, axis=1)\n",
    "\n",
    "    # Plot learning curve\n",
    "    axes[0].grid()\n",
    "    axes[0].fill_between(train_sizes, train_scores_mean - train_scores_std,\n",
    "                         train_scores_mean + train_scores_std, alpha=0.1,\n",
    "                         color=\"r\")\n",
    "    axes[0].fill_between(train_sizes, test_scores_mean - test_scores_std,\n",
    "                         test_scores_mean + test_scores_std, alpha=0.1,\n",
    "                         color=\"g\")\n",
    "    axes[0].plot(train_sizes, train_scores_mean, 'o-', color=\"r\",\n",
    "                 label=\"Training score\")\n",
    "    axes[0].plot(train_sizes, test_scores_mean, 'o-', color=\"g\",\n",
    "                 label=\"Cross-validation score\")\n",
    "    axes[0].legend(loc=\"best\")\n",
    "\n",
    "    # Plot n_samples vs fit_times\n",
    "    axes[1].grid()\n",
    "    axes[1].plot(train_sizes, fit_times_mean, 'o-')\n",
    "    axes[1].fill_between(train_sizes, fit_times_mean - fit_times_std,\n",
    "                         fit_times_mean + fit_times_std, alpha=0.1)\n",
    "    axes[1].set_xlabel(\"Training examples\")\n",
    "    axes[1].set_ylabel(\"fit_times\")\n",
    "    axes[1].set_title(\"Scalability of the model\")\n",
    "\n",
    "    # Plot fit_time vs score\n",
    "    axes[2].grid()\n",
    "    axes[2].plot(fit_times_mean, test_scores_mean, 'o-')\n",
    "    axes[2].fill_between(fit_times_mean, test_scores_mean - test_scores_std,\n",
    "                         test_scores_mean + test_scores_std, alpha=0.1)\n",
    "    axes[2].set_xlabel(\"fit_times\")\n",
    "    axes[2].set_ylabel(\"Score\")\n",
    "    axes[2].set_title(\"Performance of the model\")\n",
    "\n",
    "    return plt\n"
   ]
  },
  {
   "cell_type": "markdown",
   "metadata": {},
   "source": [
    "# Gaussian NB with Vader Lexicon"
   ]
  },
  {
   "cell_type": "code",
   "execution_count": null,
   "metadata": {},
   "outputs": [],
   "source": [
    "train_data = np.asarray(train_review_sen.loc[:, 2:])\n",
    "train_label = np.asarray(train_review_sen.loc[:, 'rating'])\n",
    "\n",
    "X_train, X_test, y_train, y_test = train_test_split(train_data, train_label, test_size=0.33, random_state=74) \n",
    "X_train = X_train.reshape(-1, 1) \n",
    "X_test = X_test.reshape(-1, 1) \n",
    "y_train = y_train.reshape(-1, 1)\n",
    "y_test = y_test.reshape(-1, 1)\n",
    "\n",
    "\n",
    "gnb = GaussianNB()\n",
    "gnb.fit(X_train, y_train)\n",
    "\n",
    "# Predict rating of reviews in test dataset\n",
    "prediction = gnb.predict(X_test)\n",
    "\n",
    "print(\"Accuracy:\", accuracy_score(y_test, prediction, normalize=True) )\n",
    "print(\"Cross validated score:\", cross_val_score(GaussianNB(), y_test, prediction, cv=10).mean())\n",
    "print(\"\\n\")\n",
    "print(classification_report(y_test, prediction))\n",
    "# print(gnb.score(y_test, prediction))"
   ]
  },
  {
   "cell_type": "code",
   "execution_count": null,
   "metadata": {},
   "outputs": [],
   "source": [
    "################## KAGGLE SUBMISSION - Naive Bayes (using the test data csv provided)\n",
    "\n",
    "test_data = test_review_sen.loc[:, 'compound']\n",
    "train_data = train_data.reshape(-1, 1) \n",
    "train_label = train_label.reshape(-1, 1) \n",
    "test_data = np.array(test_data).reshape(-1, 1)\n",
    "\n",
    "\n",
    "gnb = GaussianNB()\n",
    "gnb.fit(train_data, train_label)\n",
    "\n",
    "prediction = gnb.predict(test_data)\n",
    "instance_id = list(range(1, len(prediction)+1))\n",
    "\n",
    "# Create csv file for Kaggle submission\n",
    "d = {'Instance_id':instance_id, 'rating':prediction}\n",
    "df = pd.DataFrame(d)\n"
   ]
  },
  {
   "cell_type": "code",
   "execution_count": null,
   "metadata": {},
   "outputs": [],
   "source": [
    "df.to_csv('gnb_sen_v1.csv', index=False)"
   ]
  },
  {
   "cell_type": "markdown",
   "metadata": {},
   "source": [
    "   \n",
    "   "
   ]
  },
  {
   "cell_type": "markdown",
   "metadata": {},
   "source": [
    "# Gaussian NB with doc2vec50 feature"
   ]
  },
  {
   "cell_type": "code",
   "execution_count": 15,
   "metadata": {},
   "outputs": [
    {
     "name": "stdout",
     "output_type": "stream",
     "text": [
      "Accuracy: 0.7171542696750512\n",
      "Cross validated score: 0.7034471028725469\n",
      "\n",
      "\n",
      "              precision    recall  f1-score   support\n",
      "\n",
      "           1       0.37      0.52      0.43       752\n",
      "           3       0.54      0.47      0.50      2128\n",
      "           5       0.83      0.82      0.82      6383\n",
      "\n",
      "    accuracy                           0.72      9263\n",
      "   macro avg       0.58      0.60      0.59      9263\n",
      "weighted avg       0.72      0.72      0.72      9263\n",
      "\n"
     ]
    }
   ],
   "source": [
    "train_data = np.asarray(train_review_d2v50.iloc[:,2:51]) \n",
    "train_label = np.asarray(train_review_d2v50.loc[:, 'rating'])\n",
    "\n",
    "X_train, X_test, y_train, y_test = train_test_split(train_data, train_label, test_size=0.33, random_state=74)\n",
    "y_test = y_test.reshape(-1, 1) \n",
    "\n",
    "gnb = GaussianNB()\n",
    "gnb.fit(X_train, y_train)\n",
    "\n",
    "# Predict rating of reviews in test dataset\n",
    "prediction = gnb.predict(X_test)\n",
    "\n",
    "print(\"Accuracy:\", accuracy_score(y_test, prediction, normalize=True) )\n",
    "print(\"Cross validated score:\", cross_val_score(GaussianNB(), y_test, prediction, cv=10).mean())\n",
    "print(\"\\n\")\n",
    "print(classification_report(y_test, prediction))\n",
    "# print(gnb.score(y_test, prediction))"
   ]
  },
  {
   "cell_type": "code",
   "execution_count": null,
   "metadata": {},
   "outputs": [],
   "source": [
    "################## KAGGLE SUBMISSION - Naive Bayes (using the test data csv provided)\n",
    "test_data = test_review_d2v50.iloc[:,0:49]\n",
    "# train_data = train_data.reshape(-1, 1) \n",
    "# train_label = train_label.reshape(-1, 1) \n",
    "# test_data = np.array(test_data).reshape(-1, 1)\n",
    "\n",
    "train_data = np.asarray(train_review_d2v50.iloc[:,2:51]) \n",
    "train_label = np.asarray(train_review_d2v50.loc[:, 'rating'])\n",
    "\n",
    "gnb = GaussianNB()\n",
    "gnb.fit(train_data, train_label)\n",
    "\n",
    "prediction = gnb.predict(test_data)\n",
    "instance_id = list(range(1, len(prediction)+1))\n",
    "\n",
    "# Create csv file for Kaggle submission\n",
    "d = {'Instance_id':instance_id, 'rating':prediction}\n",
    "df = pd.DataFrame(d)\n"
   ]
  },
  {
   "cell_type": "code",
   "execution_count": null,
   "metadata": {},
   "outputs": [],
   "source": [
    "df.to_csv('gnb_d2v50_v1.csv', index=False)"
   ]
  },
  {
   "cell_type": "markdown",
   "metadata": {},
   "source": [
    "# Gaussian NB with doc2vec100 feature"
   ]
  },
  {
   "cell_type": "code",
   "execution_count": 16,
   "metadata": {},
   "outputs": [
    {
     "name": "stdout",
     "output_type": "stream",
     "text": [
      "Accuracy: 0.6597214725250998\n",
      "Cross validated score: 0.6540034855463991\n",
      "\n",
      "\n",
      "              precision    recall  f1-score   support\n",
      "\n",
      "           1       0.30      0.54      0.38       752\n",
      "           3       0.46      0.43      0.44      2128\n",
      "           5       0.81      0.75      0.78      6383\n",
      "\n",
      "    accuracy                           0.66      9263\n",
      "   macro avg       0.52      0.57      0.54      9263\n",
      "weighted avg       0.69      0.66      0.67      9263\n",
      "\n"
     ]
    }
   ],
   "source": [
    "train_data = np.asarray(train_review_d2v100.iloc[:,2:101]) \n",
    "train_label = np.asarray(train_review_d2v100.loc[:, 'rating'])\n",
    "\n",
    "X_train, X_test, y_train, y_test = train_test_split(train_data, train_label, test_size=0.33, random_state=74)\n",
    "y_test = y_test.reshape(-1, 1) \n",
    "\n",
    "gnb = GaussianNB()\n",
    "gnb.fit(X_train, y_train)\n",
    "\n",
    "# Predict rating of reviews in test dataset\n",
    "prediction = gnb.predict(X_test)\n",
    "\n",
    "print(\"Accuracy:\", accuracy_score(y_test, prediction, normalize=True) )\n",
    "print(\"Cross validated score:\", cross_val_score(GaussianNB(), y_test, prediction, cv=10).mean())\n",
    "print(\"\\n\")\n",
    "print(classification_report(y_test, prediction))\n",
    "# print(gnb.score(y_test, prediction))"
   ]
  },
  {
   "cell_type": "code",
   "execution_count": null,
   "metadata": {},
   "outputs": [],
   "source": [
    "################## KAGGLE SUBMISSION - Naive Bayes (using the test data csv provided)\n",
    "test_data = test_review_d2v100.iloc[:,0:99]\n",
    "# train_data = train_data.reshape(-1, 1) \n",
    "# train_label = train_label.reshape(-1, 1) \n",
    "# test_data = np.array(test_data).reshape(-1, 1)\n",
    "\n",
    "train_data = np.asarray(train_review_d2v100.iloc[:,2:101]) \n",
    "train_label = np.asarray(train_review_d2v50.loc[:, 'rating'])\n",
    "\n",
    "gnb = GaussianNB()\n",
    "gnb.fit(train_data, train_label)\n",
    "\n",
    "prediction = gnb.predict(test_data)\n",
    "instance_id = list(range(1, len(prediction)+1))\n",
    "\n",
    "# Create csv file for Kaggle submission\n",
    "d = {'Instance_id':instance_id, 'rating':prediction}\n",
    "df = pd.DataFrame(d)\n"
   ]
  },
  {
   "cell_type": "code",
   "execution_count": null,
   "metadata": {},
   "outputs": [],
   "source": [
    "df.to_csv('gnb_d2v10_v1.csv', index=False)"
   ]
  },
  {
   "cell_type": "markdown",
   "metadata": {},
   "source": [
    "# Gaussian NB with doc2vec200 feature"
   ]
  },
  {
   "cell_type": "code",
   "execution_count": 17,
   "metadata": {},
   "outputs": [
    {
     "name": "stdout",
     "output_type": "stream",
     "text": [
      "Accuracy: 0.605635323329375\n",
      "Cross validated score: 0.6165422494355791\n",
      "\n",
      "\n",
      "              precision    recall  f1-score   support\n",
      "\n",
      "           1       0.23      0.54      0.33       752\n",
      "           3       0.41      0.37      0.39      2128\n",
      "           5       0.79      0.69      0.74      6383\n",
      "\n",
      "    accuracy                           0.61      9263\n",
      "   macro avg       0.48      0.53      0.48      9263\n",
      "weighted avg       0.66      0.61      0.62      9263\n",
      "\n"
     ]
    }
   ],
   "source": [
    "train_data = np.asarray(train_review_d2v200.iloc[:,2:]) \n",
    "train_label = np.asarray(train_review_d2v200.loc[:, 'rating'])\n",
    "\n",
    "X_train, X_test, y_train, y_test = train_test_split(train_data, train_label, test_size=0.33, random_state=74)\n",
    "y_test = y_test.reshape(-1, 1) \n",
    "\n",
    "\n",
    "gnb = GaussianNB()\n",
    "gnb.fit(X_train, y_train)\n",
    "\n",
    "# Predict rating of reviews in test dataset\n",
    "prediction = gnb.predict(X_test)\n",
    "\n",
    "print(\"Accuracy:\", accuracy_score(y_test, prediction, normalize=True) )\n",
    "print(\"Cross validated score:\", cross_val_score(GaussianNB(), y_test, prediction, cv=10).mean())\n",
    "print(\"\\n\")\n",
    "print(classification_report(y_test, prediction))\n",
    "# print(gnb.score(y_test, prediction))"
   ]
  },
  {
   "cell_type": "code",
   "execution_count": null,
   "metadata": {},
   "outputs": [],
   "source": [
    "print(multilabel_confusion_matrix(y_test, prediction))\n",
    "plot_confusion_matrix(clf, X_test, y_test, normalize='all', cmap='gray')  "
   ]
  },
  {
   "cell_type": "code",
   "execution_count": null,
   "metadata": {},
   "outputs": [],
   "source": [
    "################## KAGGLE SUBMISSION - Naive Bayes (using the test data csv provided)\n",
    "test_data = test_review_d2v50.iloc[:,0:199]\n",
    "# train_data = train_data.reshape(-1, 1) \n",
    "# train_label = train_label.reshape(-1, 1) \n",
    "# test_data = np.array(test_data).reshape(-1, 1)\n",
    "\n",
    "train_data = np.asarray(train_review_d2v50.iloc[:,2:200]) \n",
    "train_label = np.asarray(train_review_d2v50.loc[:, 'rating'])\n",
    "\n",
    "gnb = GaussianNB()\n",
    "gnb.fit(train_data, train_label)\n",
    "\n",
    "prediction = gnb.predict(test_data)\n",
    "instance_id = list(range(1, len(prediction)+1))\n",
    "\n",
    "# Create csv file for Kaggle submission\n",
    "d = {'Instance_id':instance_id, 'rating':prediction}\n",
    "df = pd.DataFrame(d)\n"
   ]
  },
  {
   "cell_type": "code",
   "execution_count": null,
   "metadata": {},
   "outputs": [],
   "source": [
    "df.to_csv('gnb_d2v200_v1.csv', index=False)"
   ]
  },
  {
   "cell_type": "markdown",
   "metadata": {},
   "source": [
    "# Polynomial SVM (OneVsRest) with Vader Lexicon feature"
   ]
  },
  {
   "cell_type": "code",
   "execution_count": null,
   "metadata": {},
   "outputs": [],
   "source": [
    "train_data = np.asarray(train_review_sen.loc[:, 'compound'])\n",
    "train_label = np.asarray(train_review_sen.loc[:, 'rating'])\n",
    "\n",
    "X_train, X_test, y_train, y_test = train_test_split(train_data, train_label, test_size=0.33, random_state=74)\n",
    "X_test = X_test.reshape(-1, 1) \n",
    "y_test = y_test.reshape(-1, 1) \n",
    "X_train = X_train.reshape(-1, 1) \n",
    "y_train = np.array(y_train).reshape(-1, 1) \n",
    "\n",
    "\n",
    "clf = OneVsRestClassifier(SVC(kernel='poly', degree = 3, C=1, gamma='scale')).fit(X_train, y_train)\n",
    "y_pred = clf.predict(X_test)\n",
    "\n",
    "print(classification_report(y_test, y_pred))\n",
    "print(\"Accuracy:\", accuracy_score(y_test, y_pred, normalize=True) )\n",
    "print(\"Cross validated score:\", cross_val_score(clf, y_test, y_pred, cv=10).mean())\n"
   ]
  },
  {
   "cell_type": "code",
   "execution_count": null,
   "metadata": {},
   "outputs": [],
   "source": [
    "################## KAGGLE SUBMISSION - OneVsRest SVM (using the test data csv provided)\n",
    "train_data = np.asarray(train_review_sen.loc[:, 'compound'])\n",
    "train_label = np.asarray(train_review_sen.loc[:, 'rating'])\n",
    "test_data = test_review_sen.loc[:, 'compound']\n",
    "train_data = train_data.reshape(-1, 1) \n",
    "test_data = np.array(test_data).reshape(-1, 1) \n",
    "\n",
    "clf = OneVsRestClassifier(SVC(kernel='poly', degree = 3, C=1, gamma='scale')).fit(train_data, train_label)\n",
    "\n",
    "prediction = clf.predict(test_data)\n",
    "instance_id = list(range(1, len(prediction)+1))\n",
    "\n",
    "\n",
    "# Create csv file for Kaggle submission\n",
    "d = {'Instance_id':instance_id, 'rating':prediction}\n",
    "df = pd.DataFrame(d)\n",
    "\n",
    "print(df.shape)"
   ]
  },
  {
   "cell_type": "code",
   "execution_count": null,
   "metadata": {},
   "outputs": [],
   "source": [
    "df.to_csv('polysvm__sen_v1.csv', index=False)"
   ]
  },
  {
   "cell_type": "markdown",
   "metadata": {},
   "source": [
    "# Linear SVM (OneVsRest) with Vader Lexicon feature"
   ]
  },
  {
   "cell_type": "code",
   "execution_count": null,
   "metadata": {},
   "outputs": [],
   "source": [
    "train_data = np.asarray(train_review_sen.loc[:, 'compound'])\n",
    "train_label = np.asarray(train_review_sen.loc[:, 'rating'])\n",
    "\n",
    "X_train, X_test, y_train, y_test = train_test_split(train_data, train_label, test_size=0.33, random_state=74)\n",
    "X_test = X_test.reshape(-1, 1) \n",
    "y_test = y_test.reshape(-1, 1) \n",
    "X_train = X_train.reshape(-1, 1) \n",
    "y_train = np.array(y_train).reshape(-1, 1) \n",
    "\n",
    "\n",
    "clf = OneVsRestClassifier(SVC(kernel='linear', gamma='scale')).fit(X_train, y_train)\n",
    "y_pred = clf.predict(X_test)\n",
    "\n",
    "print(classification_report(y_test, y_pred))\n",
    "print(\"Accuracy:\", accuracy_score(y_test, y_pred, normalize=True) )\n",
    "print(\"Cross validated score:\", cross_val_score(clf, y_test, y_pred, cv=10).mean())\n"
   ]
  },
  {
   "cell_type": "code",
   "execution_count": null,
   "metadata": {},
   "outputs": [],
   "source": [
    "################## KAGGLE SUBMISSION - OneVsRest SVM (using the test data csv provided)\n",
    "train_data = np.asarray(train_review_sen.loc[:, 'compound'])\n",
    "train_label = np.asarray(train_review_sen.loc[:, 'rating'])\n",
    "test_data = test_review_sen.loc[:, 'compound']\n",
    "train_data = train_data.reshape(-1, 1) \n",
    "test_data = np.array(test_data).reshape(-1, 1) \n",
    "\n",
    "clf = OneVsRestClassifier(SVC(kernel='linear', gamma='scale')).fit(train_data, train_label)\n",
    "\n",
    "prediction = clf.predict(test_data)\n",
    "instance_id = list(range(1, len(prediction)+1))\n",
    "\n",
    "\n",
    "# Create csv file for Kaggle submission\n",
    "d = {'Instance_id':instance_id, 'rating':prediction}\n",
    "df = pd.DataFrame(d)"
   ]
  },
  {
   "cell_type": "code",
   "execution_count": null,
   "metadata": {},
   "outputs": [],
   "source": [
    "df.to_csv('linearsvm_sen_v1.csv', index=False)"
   ]
  },
  {
   "cell_type": "markdown",
   "metadata": {},
   "source": [
    "# Gaussian/RBF SVM (OneVsRest) with Vader Lexicon feature"
   ]
  },
  {
   "cell_type": "code",
   "execution_count": null,
   "metadata": {},
   "outputs": [],
   "source": [
    "X_train, X_test, y_train, y_test = train_test_split(train_data, train_label, test_size=0.33, random_state=74)\n",
    "X_test = X_test.reshape(-1, 1) \n",
    "y_test = y_test.reshape(-1, 1) \n",
    "X_train = X_train.reshape(-1, 1) \n",
    "y_train = np.array(y_train).reshape(-1, 1) \n",
    "\n",
    "clf = OneVsRestClassifier(SVC(kernel='rbf', gamma='scale')).fit(X_train, y_train)\n",
    "y_pred = clf.predict(X_test)\n",
    "\n",
    "print(classification_report(y_test, y_pred))\n",
    "print(\"Accuracy:\", accuracy_score(y_test, y_pred, normalize=True) )\n",
    "print(\"Cross validated score:\", cross_val_score(clf, y_test, y_pred, cv=10).mean())"
   ]
  },
  {
   "cell_type": "code",
   "execution_count": null,
   "metadata": {},
   "outputs": [],
   "source": [
    "train_data = np.asarray(train_review_sen.loc[:, 'compound'])\n",
    "train_label = np.asarray(train_review_sen.loc[:, 'rating'])\n",
    "test_data = test_review_sen.loc[:, 'compound']\n",
    "\n",
    "train_data = train_data.reshape(-1, 1) \n",
    "test_data = np.array(test_data).reshape(-1, 1) \n",
    "\n",
    "\n",
    "clf = OneVsRestClassifier(SVC(kernel='rbf', gamma='scale')).fit(train_data, train_label)\n",
    "y_pred = clf.predict(test_data)\n",
    "\n",
    "prediction = clf.predict(test_data)\n",
    "instance_id = list(range(1, len(prediction)+1))\n",
    "\n",
    "\n",
    "# Create csv file for Kaggle submission\n",
    "d = {'Instance_id':instance_id, 'rating':prediction}\n",
    "df = pd.DataFrame(d)"
   ]
  },
  {
   "cell_type": "code",
   "execution_count": null,
   "metadata": {},
   "outputs": [],
   "source": [
    "df.to_csv('gaussiansvm_sen_v1.csv', index=False)"
   ]
  },
  {
   "cell_type": "markdown",
   "metadata": {},
   "source": [
    "# Polynomial SVM (OneVsRest) with doc2vec200"
   ]
  },
  {
   "cell_type": "code",
   "execution_count": null,
   "metadata": {},
   "outputs": [],
   "source": [
    "train_data = np.asarray(train_review_d2v200.iloc[:,2:200]) \n",
    "train_label = np.asarray(train_review_d2v200.loc[:, 'rating'])\n",
    "\n",
    "X_train, X_test, y_train, y_test = train_test_split(train_data, train_label, test_size=0.33, random_state=74)\n",
    "y_test = y_test.reshape(-1, 1) \n",
    "\n",
    "\n",
    "clf = OneVsRestClassifier(SVC(kernel='poly', degree = 3, C=1, gamma='scale')).fit(X_train, y_train)\n",
    "y_pred = clf.predict(X_test)\n",
    "\n",
    "print(classification_report(y_test, y_pred))\n",
    "print(\"Accuracy:\", accuracy_score(y_test, y_pred, normalize=True) )\n",
    "print(\"Cross validated score:\", cross_val_score(clf, y_test, y_pred, cv=10).mean())\n"
   ]
  },
  {
   "cell_type": "code",
   "execution_count": null,
   "metadata": {},
   "outputs": [],
   "source": [
    "################## KAGGLE SUBMISSION - Naive Bayes (using the test data csv provided)\n",
    "test_data = test_review_d2v200.iloc[:,0:]\n",
    "# train_data = train_data.reshape(-1, 1) \n",
    "# train_label = train_label.reshape(-1, 1) \n",
    "# test_data = np.array(test_data).reshape(-1, 1)\n",
    "\n",
    "train_data = np.asarray(train_review_d2v200.iloc[:,2:]) \n",
    "train_label = np.asarray(train_review_d2v200.loc[:, 'rating'])\n",
    "\n",
    "clf = OneVsRestClassifier(SVC(kernel='linear', gamma='scale')).fit(train_data, train_label)\n",
    "\n",
    "prediction = clf.predict(test_data)\n",
    "instance_id = list(range(1, len(prediction)+1))\n",
    "\n",
    "# Create csv file for Kaggle submission\n",
    "d = {'Instance_id':instance_id, 'rating':prediction}\n",
    "df = pd.DataFrame(d)"
   ]
  },
  {
   "cell_type": "code",
   "execution_count": null,
   "metadata": {},
   "outputs": [],
   "source": [
    "df.to_csv('polysvm_d2v200_v1.csv', index=False)"
   ]
  },
  {
   "cell_type": "markdown",
   "metadata": {},
   "source": [
    "# Linear SVM (OneVsRest) with doc2vec200"
   ]
  },
  {
   "cell_type": "code",
   "execution_count": 25,
   "metadata": {},
   "outputs": [
    {
     "name": "stdout",
     "output_type": "stream",
     "text": [
      "              precision    recall  f1-score   support\n",
      "\n",
      "           1       0.71      0.53      0.61       752\n",
      "           3       0.73      0.57      0.64      2128\n",
      "           5       0.86      0.95      0.90      6383\n",
      "\n",
      "    accuracy                           0.83      9263\n",
      "   macro avg       0.77      0.68      0.72      9263\n",
      "weighted avg       0.82      0.83      0.82      9263\n",
      "\n",
      "Accuracy: 0.8268379574651841\n",
      "Cross validated score: 0.7597972744704695\n"
     ]
    }
   ],
   "source": [
    "train_data = np.asarray(train_review_d2v200.iloc[:,2:]) \n",
    "train_label = np.asarray(train_review_d2v200.loc[:, 'rating'])\n",
    "\n",
    "X_train, X_test, y_train, y_test = train_test_split(train_data, train_label, test_size=0.33, random_state=74)\n",
    "y_test = y_test.reshape(-1, 1) \n",
    "\n",
    "\n",
    "clf = OneVsRestClassifier(SVC(kernel='linear', C= 10, gamma='scale')).fit(X_train, y_train)\n",
    "y_pred = clf.predict(X_test)\n",
    "\n",
    "print(classification_report(y_test, y_pred))\n",
    "print(\"Accuracy:\", accuracy_score(y_test, y_pred, normalize=True) )\n",
    "print(\"Cross validated score:\", cross_val_score(clf, y_test, y_pred, cv=10).mean())\n"
   ]
  },
  {
   "cell_type": "code",
   "execution_count": 28,
   "metadata": {},
   "outputs": [
    {
     "name": "stdout",
     "output_type": "stream",
     "text": [
      "[[[7182 1329]\n",
      "  [ 348  404]]\n",
      "\n",
      " [[5982 1153]\n",
      "  [1337  791]]\n",
      "\n",
      " [[1709 1171]\n",
      "  [1968 4415]]]\n"
     ]
    },
    {
     "data": {
      "text/plain": [
       "<sklearn.metrics._plot.confusion_matrix.ConfusionMatrixDisplay at 0x119daf1dc50>"
      ]
     },
     "execution_count": 28,
     "metadata": {},
     "output_type": "execute_result"
    },
    {
     "data": {
      "image/png": "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\n",
      "text/plain": [
       "<Figure size 432x288 with 2 Axes>"
      ]
     },
     "metadata": {
      "needs_background": "light"
     },
     "output_type": "display_data"
    }
   ],
   "source": [
    "print(multilabel_confusion_matrix(y_test, prediction))\n",
    "plot_confusion_matrix(clf, X_test, y_test, normalize='all', cmap='gray')  "
   ]
  },
  {
   "cell_type": "code",
   "execution_count": 26,
   "metadata": {},
   "outputs": [
    {
     "data": {
      "text/plain": [
       "<module 'matplotlib.pyplot' from 'C:\\\\Users\\\\Michelle\\\\Anaconda3\\\\lib\\\\site-packages\\\\matplotlib\\\\pyplot.py'>"
      ]
     },
     "execution_count": 26,
     "metadata": {},
     "output_type": "execute_result"
    },
    {
     "data": {
      "image/png": "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\n",
      "text/plain": [
       "<Figure size 720x1080 with 6 Axes>"
      ]
     },
     "metadata": {
      "needs_background": "light"
     },
     "output_type": "display_data"
    }
   ],
   "source": [
    "# Learning curve\n",
    "fig, axes = plt.subplots(3, 2, figsize=(10, 15))\n",
    "\n",
    "X, y = load_digits(return_X_y=True)\n",
    "\n",
    "title = \"Learning Curves (Linear SVM)\"\n",
    "# Cross validation with 100 iterations to get smoother mean test and train\n",
    "# score curves, each time with 20% data randomly selected as a validation set.\n",
    "cv = ShuffleSplit(n_splits=100, test_size=0.2, random_state=0)\n",
    "\n",
    "estimator = clf\n",
    "plot_learning_curve(estimator, title, X, y, axes=axes[:, 0], ylim=(0.7, 1.01),\n",
    "                    cv=cv, n_jobs=4)"
   ]
  },
  {
   "cell_type": "code",
   "execution_count": null,
   "metadata": {
    "scrolled": false
   },
   "outputs": [],
   "source": [
    "# Referenced from: https://www.geeksforgeeks.org/svm-hyperparameter-tuning-using-gridsearchcv-ml/\n",
    "from sklearn.model_selection import GridSearchCV \n",
    "  \n",
    "# defining parameter range \n",
    "param_grid = {'C': [0.1, 1, 10, 100],  \n",
    "              'gamma': [1, 0.1, 0.01, 0.001], \n",
    "              'kernel': ['linear', 'rbf']}  \n",
    "  \n",
    "grid = GridSearchCV(SVC(), param_grid, refit = True, verbose = 3) \n",
    "  \n",
    "# fitting the model for grid search \n",
    "grid.fit(X_train, y_train) \n",
    "\n",
    "# print best parameter after tuning \n",
    "print(grid.best_params_) \n",
    "  \n",
    "# print how our model looks after hyper-parameter tuning \n",
    "print(grid.best_estimator_) \n"
   ]
  },
  {
   "cell_type": "code",
   "execution_count": null,
   "metadata": {},
   "outputs": [],
   "source": [
    "print(multilabel_confusion_matrix(y_test, prediction))\n",
    "plot_confusion_matrix(gnb, X_test, y_test, normalize='all', cmap='gray')  "
   ]
  },
  {
   "cell_type": "code",
   "execution_count": null,
   "metadata": {},
   "outputs": [],
   "source": [
    "################## KAGGLE SUBMISSION - Naive Bayes (using the test data csv provided)\n",
    "test_data = test_review_d2v200.iloc[:,0:]\n",
    "# train_data = train_data.reshape(-1, 1) \n",
    "# train_label = train_label.reshape(-1, 1) \n",
    "# test_data = np.array(test_data).reshape(-1, 1)\n",
    "\n",
    "train_data = np.asarray(train_review_d2v200.iloc[:,2:]) \n",
    "train_label = np.asarray(train_review_d2v200.loc[:, 'rating'])\n",
    "\n",
    "clf = OneVsRestClassifier(SVC(kernel='linear', gamma='scale')).fit(train_data, train_label)\n",
    "\n",
    "prediction = clf.predict(test_data)\n",
    "instance_id = list(range(1, len(prediction)+1))\n",
    "\n",
    "# Create csv file for Kaggle submission\n",
    "d = {'Instance_id':instance_id, 'rating':prediction}\n",
    "df = pd.DataFrame(d)\n"
   ]
  },
  {
   "cell_type": "code",
   "execution_count": null,
   "metadata": {},
   "outputs": [],
   "source": [
    "df.to_csv('linearsvm_d2v200_v1.csv', index=False)"
   ]
  },
  {
   "cell_type": "markdown",
   "metadata": {},
   "source": [
    "# Gaussian/RBF SVM (OneVsRest) with doc2vec 200"
   ]
  },
  {
   "cell_type": "code",
   "execution_count": 29,
   "metadata": {},
   "outputs": [
    {
     "name": "stdout",
     "output_type": "stream",
     "text": [
      "              precision    recall  f1-score   support\n",
      "\n",
      "           1       0.75      0.54      0.63       752\n",
      "           3       0.73      0.59      0.65      2128\n",
      "           5       0.86      0.95      0.90      6383\n",
      "\n",
      "    accuracy                           0.83      9263\n",
      "   macro avg       0.78      0.69      0.73      9263\n",
      "weighted avg       0.82      0.83      0.82      9263\n",
      "\n",
      "Accuracy: 0.8320198639749541\n",
      "Cross validated score: 0.8320233410453378\n"
     ]
    }
   ],
   "source": [
    "train_data = np.asarray(train_review_d2v200.iloc[:,2:]) \n",
    "train_label = np.asarray(train_review_d2v200.loc[:, 'rating'])\n",
    "\n",
    "X_train, X_test, y_train, y_test = train_test_split(train_data, train_label, test_size=0.33, random_state=74)\n",
    "y_test = y_test.reshape(-1, 1) \n",
    "\n",
    "\n",
    "clf = OneVsRestClassifier(SVC(kernel='rbf', gamma=0.001, C=10)).fit(X_train, y_train)\n",
    "y_pred = clf.predict(X_test)\n",
    "\n",
    "print(classification_report(y_test, y_pred))\n",
    "print(\"Accuracy:\", accuracy_score(y_test, y_pred, normalize=True) )\n",
    "print(\"Cross validated score:\", cross_val_score(clf, y_test, y_pred, cv=10).mean())\n"
   ]
  },
  {
   "cell_type": "code",
   "execution_count": 31,
   "metadata": {},
   "outputs": [
    {
     "name": "stdout",
     "output_type": "stream",
     "text": [
      "[[[8373  138]\n",
      "  [ 346  406]]\n",
      "\n",
      " [[6684  451]\n",
      "  [ 883 1245]]\n",
      "\n",
      " [[1913  967]\n",
      "  [ 327 6056]]]\n"
     ]
    },
    {
     "data": {
      "text/plain": [
       "<sklearn.metrics._plot.confusion_matrix.ConfusionMatrixDisplay at 0x119d2cdcc50>"
      ]
     },
     "execution_count": 31,
     "metadata": {},
     "output_type": "execute_result"
    },
    {
     "data": {
      "image/png": "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\n",
      "text/plain": [
       "<Figure size 432x288 with 2 Axes>"
      ]
     },
     "metadata": {
      "needs_background": "light"
     },
     "output_type": "display_data"
    }
   ],
   "source": [
    "print(multilabel_confusion_matrix(y_test, y_pred))\n",
    "plot_confusion_matrix(clf, X_test, y_test, normalize='all', cmap='gray')  "
   ]
  },
  {
   "cell_type": "code",
   "execution_count": 24,
   "metadata": {},
   "outputs": [
    {
     "data": {
      "text/plain": [
       "<module 'matplotlib.pyplot' from 'C:\\\\Users\\\\Michelle\\\\Anaconda3\\\\lib\\\\site-packages\\\\matplotlib\\\\pyplot.py'>"
      ]
     },
     "execution_count": 24,
     "metadata": {},
     "output_type": "execute_result"
    },
    {
     "data": {
      "image/png": "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\n",
      "text/plain": [
       "<Figure size 720x1080 with 6 Axes>"
      ]
     },
     "metadata": {
      "needs_background": "light"
     },
     "output_type": "display_data"
    }
   ],
   "source": [
    "# Learning curve\n",
    "fig, axes = plt.subplots(3, 2, figsize=(10, 15))\n",
    "\n",
    "X, y = load_digits(return_X_y=True)\n",
    "\n",
    "title = \"Learning Curves (Gaussian SVM)\"\n",
    "# Cross validation with 100 iterations to get smoother mean test and train\n",
    "# score curves, each time with 20% data randomly selected as a validation set.\n",
    "cv = ShuffleSplit(n_splits=100, test_size=0.2, random_state=0)\n",
    "\n",
    "estimator = clf\n",
    "plot_learning_curve(estimator, title, X, y, axes=axes[:, 0], ylim=(0.7, 1.01),\n",
    "                    cv=cv, n_jobs=4)"
   ]
  },
  {
   "cell_type": "code",
   "execution_count": null,
   "metadata": {},
   "outputs": [],
   "source": [
    "from sklearn.model_selection import GridSearchCV \n",
    "  \n",
    "# defining parameter range \n",
    "param_grid = {'C': [0.1, 1, 10, 100, 1000],  \n",
    "              'gamma': [1, 0.1, 0.01, 0.001, 0.0001], \n",
    "              'kernel': ['rbf']}  \n",
    "  \n",
    "grid = GridSearchCV(SVC(), param_grid, refit = True, verbose = 3) \n",
    "  \n",
    "# fitting the model for grid search \n",
    "grid.fit(X_train, y_train) \n",
    "\n",
    "# print best parameter after tuning \n",
    "print(grid.best_params_) \n",
    "  \n",
    "# print how our model looks after hyper-parameter tuning \n",
    "print(grid.best_estimator_) "
   ]
  },
  {
   "cell_type": "code",
   "execution_count": null,
   "metadata": {},
   "outputs": [],
   "source": [
    "print(multilabel_confusion_matrix(y_test, y_pred))\n",
    "plot_confusion_matrix(clf, X_test, y_test, normalize='all', cmap='gray')  "
   ]
  },
  {
   "cell_type": "code",
   "execution_count": null,
   "metadata": {},
   "outputs": [],
   "source": [
    "################## KAGGLE SUBMISSION - Naive Bayes (using the test data csv provided)\n",
    "test_data = test_review_d2v200.iloc[:,0:]\n",
    "# train_data = train_data.reshape(-1, 1) \n",
    "# train_label = train_label.reshape(-1, 1) \n",
    "# test_data = np.array(test_data).reshape(-1, 1)\n",
    "\n",
    "train_data = np.asarray(train_review_d2v200.iloc[:,2:]) \n",
    "train_label = np.asarray(train_review_d2v200.loc[:, 'rating'])\n",
    "\n",
    "clf = OneVsRestClassifier(SVC(kernel='linear', gamma='scale')).fit(train_data, train_label)\n",
    "\n",
    "prediction = clf.predict(test_data)\n",
    "instance_id = list(range(1, len(prediction)+1))\n",
    "\n",
    "# Create csv file for Kaggle submission\n",
    "d = {'Instance_id':instance_id, 'rating':prediction}\n",
    "df = pd.DataFrame(d)"
   ]
  },
  {
   "cell_type": "code",
   "execution_count": null,
   "metadata": {},
   "outputs": [],
   "source": [
    "df.to_csv('gaussiansvm_d2v200_v1.csv', index=False)"
   ]
  },
  {
   "cell_type": "markdown",
   "metadata": {},
   "source": [
    "# Linear SVM (OneVsRest) with doc2vec 100"
   ]
  },
  {
   "cell_type": "code",
   "execution_count": 6,
   "metadata": {},
   "outputs": [
    {
     "name": "stdout",
     "output_type": "stream",
     "text": [
      "              precision    recall  f1-score   support\n",
      "\n",
      "           1       0.71      0.49      0.58       752\n",
      "           3       0.72      0.57      0.64      2128\n",
      "           5       0.86      0.95      0.90      6383\n",
      "\n",
      "    accuracy                           0.82      9263\n",
      "   macro avg       0.76      0.67      0.71      9263\n",
      "weighted avg       0.81      0.82      0.81      9263\n",
      "\n",
      "Accuracy: 0.8234913095109576\n",
      "Cross validated score: 0.7583946682323666\n"
     ]
    }
   ],
   "source": [
    "train_data = np.asarray(train_review_d2v100.iloc[:,2:]) \n",
    "train_label = np.asarray(train_review_d2v100.loc[:, 'rating'])\n",
    "\n",
    "X_train, X_test, y_train, y_test = train_test_split(train_data, train_label, test_size=0.33, random_state=74)\n",
    "y_test = y_test.reshape(-1, 1) \n",
    "\n",
    "\n",
    "clf = OneVsRestClassifier(SVC(kernel='linear', C=10, gamma='scale')).fit(X_train, y_train)\n",
    "y_pred = clf.predict(X_test)\n",
    "\n",
    "print(classification_report(y_test, y_pred))\n",
    "print(\"Accuracy:\", accuracy_score(y_test, y_pred, normalize=True) )\n",
    "print(\"Cross validated score:\", cross_val_score(clf, y_test, y_pred, cv=10).mean())\n"
   ]
  },
  {
   "cell_type": "markdown",
   "metadata": {},
   "source": [
    "# Gaussian/RBF SVM (OneVsRest) with doc2vec 100"
   ]
  },
  {
   "cell_type": "code",
   "execution_count": 10,
   "metadata": {},
   "outputs": [
    {
     "name": "stdout",
     "output_type": "stream",
     "text": [
      "              precision    recall  f1-score   support\n",
      "\n",
      "           1       0.76      0.55      0.64       752\n",
      "           3       0.73      0.59      0.65      2128\n",
      "           5       0.87      0.95      0.91      6383\n",
      "\n",
      "    accuracy                           0.83      9263\n",
      "   macro avg       0.78      0.70      0.73      9263\n",
      "weighted avg       0.83      0.83      0.83      9263\n",
      "\n",
      "Accuracy: 0.8343949044585988\n",
      "Cross validated score: 0.8343972870519872\n"
     ]
    }
   ],
   "source": [
    "train_data = np.asarray(train_review_d2v100.iloc[:,2:]) \n",
    "train_label = np.asarray(train_review_d2v100.loc[:, 'rating'])\n",
    "\n",
    "X_train, X_test, y_train, y_test = train_test_split(train_data, train_label, test_size=0.33, random_state=74)\n",
    "y_test = y_test.reshape(-1, 1) \n",
    "\n",
    "\n",
    "clf = OneVsRestClassifier(SVC(kernel='rbf')).fit(X_train, y_train)\n",
    "y_pred = clf.predict(X_test)\n",
    "\n",
    "print(classification_report(y_test, y_pred))\n",
    "print(\"Accuracy:\", accuracy_score(y_test, y_pred, normalize=True) )\n",
    "print(\"Cross validated score:\", cross_val_score(clf, y_test, y_pred, cv=10).mean())\n"
   ]
  },
  {
   "cell_type": "markdown",
   "metadata": {},
   "source": [
    "# Linear SVM (OneVsRest) with doc2vec 50"
   ]
  },
  {
   "cell_type": "code",
   "execution_count": 8,
   "metadata": {},
   "outputs": [
    {
     "name": "stdout",
     "output_type": "stream",
     "text": [
      "              precision    recall  f1-score   support\n",
      "\n",
      "           1       0.68      0.42      0.52       752\n",
      "           3       0.69      0.56      0.62      2128\n",
      "           5       0.85      0.94      0.89      6383\n",
      "\n",
      "    accuracy                           0.81      9263\n",
      "   macro avg       0.74      0.64      0.68      9263\n",
      "weighted avg       0.80      0.81      0.80      9263\n",
      "\n",
      "Accuracy: 0.812371801792076\n",
      "Cross validated score: 0.7639011791678025\n"
     ]
    }
   ],
   "source": [
    "train_data = np.asarray(train_review_d2v50.iloc[:,2:]) \n",
    "train_label = np.asarray(train_review_d2v50.loc[:, 'rating'])\n",
    "\n",
    "X_train, X_test, y_train, y_test = train_test_split(train_data, train_label, test_size=0.33, random_state=74)\n",
    "y_test = y_test.reshape(-1, 1) \n",
    "\n",
    "\n",
    "clf = OneVsRestClassifier(SVC(kernel='linear', C=10, gamma='scale')).fit(X_train, y_train)\n",
    "y_pred = clf.predict(X_test)\n",
    "\n",
    "print(classification_report(y_test, y_pred))\n",
    "print(\"Accuracy:\", accuracy_score(y_test, y_pred, normalize=True) )\n",
    "print(\"Cross validated score:\", cross_val_score(clf, y_test, y_pred, cv=10).mean())\n"
   ]
  },
  {
   "cell_type": "markdown",
   "metadata": {},
   "source": [
    "# Gaussian/RBF SVM (OneVsRest) with doc2vec 50"
   ]
  },
  {
   "cell_type": "code",
   "execution_count": 11,
   "metadata": {},
   "outputs": [
    {
     "name": "stdout",
     "output_type": "stream",
     "text": [
      "              precision    recall  f1-score   support\n",
      "\n",
      "           1       0.70      0.50      0.58       752\n",
      "           3       0.70      0.56      0.63      2128\n",
      "           5       0.86      0.94      0.90      6383\n",
      "\n",
      "    accuracy                           0.82      9263\n",
      "   macro avg       0.75      0.67      0.70      9263\n",
      "weighted avg       0.81      0.82      0.81      9263\n",
      "\n",
      "Accuracy: 0.8204685307135917\n",
      "Cross validated score: 0.8095656813474339\n"
     ]
    }
   ],
   "source": [
    "train_data = np.asarray(train_review_d2v50.iloc[:,2:]) \n",
    "train_label = np.asarray(train_review_d2v50.loc[:, 'rating'])\n",
    "\n",
    "X_train, X_test, y_train, y_test = train_test_split(train_data, train_label, test_size=0.33, random_state=74)\n",
    "y_test = y_test.reshape(-1, 1) \n",
    "\n",
    "\n",
    "clf = OneVsRestClassifier(SVC(kernel='rbf')).fit(X_train, y_train)\n",
    "y_pred = clf.predict(X_test)\n",
    "\n",
    "print(classification_report(y_test, y_pred))\n",
    "print(\"Accuracy:\", accuracy_score(y_test, y_pred, normalize=True) )\n",
    "print(\"Cross validated score:\", cross_val_score(clf, y_test, y_pred, cv=10).mean())\n"
   ]
  }
 ],
 "metadata": {
  "kernelspec": {
   "display_name": "Python 3",
   "language": "python",
   "name": "python3"
  },
  "language_info": {
   "codemirror_mode": {
    "name": "ipython",
    "version": 3
   },
   "file_extension": ".py",
   "mimetype": "text/x-python",
   "name": "python",
   "nbconvert_exporter": "python",
   "pygments_lexer": "ipython3",
   "version": "3.7.1"
  }
 },
 "nbformat": 4,
 "nbformat_minor": 4
}
